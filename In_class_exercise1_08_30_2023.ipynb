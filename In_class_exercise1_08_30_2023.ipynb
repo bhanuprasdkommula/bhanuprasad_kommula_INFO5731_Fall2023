{
 "cells": [
  {
   "cell_type": "markdown",
   "metadata": {
    "id": "view-in-github"
   },
   "source": [
    "<a href=\"https://colab.research.google.com/github/unt-iialab/INFO5731_Spring2020/blob/master/In_class_exercise/In_class_exercise_01.ipynb\" target=\"_parent\"><img src=\"https://colab.research.google.com/assets/colab-badge.svg\" alt=\"Open In Colab\"/></a>"
   ]
  },
  {
   "cell_type": "markdown",
   "metadata": {
    "id": "DymRJbxDBCnf"
   },
   "source": [
    "# **The first In-class-exercise (08/30/2023, 40 points in total)**\n",
    "This exercise is due tomorrow 08/31/203 11:59 PM.\n"
   ]
  },
  {
   "cell_type": "markdown",
   "metadata": {
    "id": "FBKvD6O_TY6e"
   },
   "source": [
    "(1) Write a Python program to calculate the area of a rectangle using user-input length and width."
   ]
  },
  {
   "cell_type": "code",
   "execution_count": 1,
   "metadata": {
    "id": "cikVKDXdTbzE"
   },
   "outputs": [
    {
     "name": "stdout",
     "output_type": "stream",
     "text": [
      "length4\n",
      "width5\n",
      "area of rectangle20\n"
     ]
    }
   ],
   "source": [
    "l=int(input(\"length\"))\n",
    "b=int(input(\"width\"))\n",
    "area=l*b\n",
    "print(\"area of rectangle\"+str(area))\n",
    "\n",
    "#So here are we are taking input length and width and calculating the area by formula length * width"
   ]
  },
  {
   "cell_type": "markdown",
   "metadata": {
    "id": "E9RqrlwdTfvl"
   },
   "source": [
    "(2) Create a program that takes two numbers from the user and swaps their values without using a temporary variable."
   ]
  },
  {
   "cell_type": "code",
   "execution_count": 4,
   "metadata": {
    "id": "4XvRknixTh1g"
   },
   "outputs": [
    {
     "name": "stdout",
     "output_type": "stream",
     "text": [
      "5\n",
      "6\n",
      "a: 6 b: 5\n"
     ]
    }
   ],
   "source": [
    "a=int(input())\n",
    "b=int(input())\n",
    "a,b=b,a\n",
    "print(\"a:\", a, \"b:\", b)\n",
    "\n",
    "# here we are swaping two values "
   ]
  },
  {
   "cell_type": "markdown",
   "metadata": {
    "id": "03jb4GZsBkBS"
   },
   "source": [
    "(3) Write a Python program to calculate the length of a string."
   ]
  },
  {
   "cell_type": "code",
   "execution_count": 9,
   "metadata": {
    "id": "YaGLbSHHB8Ej"
   },
   "outputs": [
    {
     "name": "stdout",
     "output_type": "stream",
     "text": [
      "bhanu\n",
      "5\n"
     ]
    }
   ],
   "source": [
    "S=input()\n",
    "l=len(S)\n",
    "print(l)\n",
    "\n",
    "#here we are using the len built-in function to find the length of the string"
   ]
  },
  {
   "cell_type": "markdown",
   "metadata": {
    "id": "jJDe71iLB616"
   },
   "source": [
    "(4) Write a Python program to count the number of characters in a string.\n",
    "\n",
    "Sample String : 'google.com‘,\n",
    "\n",
    "Expected Result : {'o': 3, 'g': 2, '.': 1, 'e': 1, 'l': 1, 'm': 1, 'c': 1}"
   ]
  },
  {
   "cell_type": "code",
   "execution_count": null,
   "metadata": {
    "id": "MtKskTzbCLaU"
   },
   "outputs": [],
   "source": [
    "# write your answer here\n"
   ]
  },
  {
   "cell_type": "markdown",
   "metadata": {
    "id": "55W9AMdXCSpV"
   },
   "source": [
    "(5) Write a Python program to sum all the items in a list."
   ]
  },
  {
   "cell_type": "code",
   "execution_count": 7,
   "metadata": {
    "id": "I57NXsauCec2"
   },
   "outputs": [
    {
     "name": "stdout",
     "output_type": "stream",
     "text": [
      "17\n"
     ]
    }
   ],
   "source": [
    "l=[2,8,6,1]\n",
    "total=sum(l)\n",
    "print(total)"
   ]
  },
  {
   "cell_type": "markdown",
   "metadata": {
    "id": "4ulBZ6yhCi9F"
   },
   "source": [
    "(6) Write a Python program to get a string from a given string where all occurrences of its first char have been changed to '\\$', except the first char itself.\n",
    "\n",
    "Sample String : 'restart‘,\n",
    "\n",
    "Expected Result : 'resta\\$t'"
   ]
  },
  {
   "cell_type": "code",
   "execution_count": null,
   "metadata": {
    "id": "Fj0XhwbBCw2o"
   },
   "outputs": [],
   "source": [
    "# write your answer here\n"
   ]
  },
  {
   "cell_type": "markdown",
   "metadata": {
    "id": "qVXA3q7ET5JI"
   },
   "source": [
    "(7) Create a program that calculates the factorial of a number using a while loop."
   ]
  },
  {
   "cell_type": "code",
   "execution_count": 12,
   "metadata": {
    "id": "Lbt7R6UkT7BA"
   },
   "outputs": [
    {
     "name": "stdout",
     "output_type": "stream",
     "text": [
      "Enter a number: 5\n",
      "The factorial of 5 is: 120\n"
     ]
    }
   ],
   "source": [
    "# write your answer here\n",
    "number = int(input(\"Enter a number: \"))\n",
    "factorial = 1\n",
    "current_number = 1\n",
    "while current_number <= number:\n",
    "    factorial *= current_number\n",
    "    current_number += 1\n",
    "print(f\"The factorial of {number} is: {factorial}\")"
   ]
  },
  {
   "cell_type": "markdown",
   "metadata": {
    "id": "6YfbzXMNT--R"
   },
   "source": [
    "(8) Create a program that takes a list of numbers as input and outputs a new list with only the even numbers."
   ]
  },
  {
   "cell_type": "code",
   "execution_count": 13,
   "metadata": {
    "id": "54q7wMQPUAKu"
   },
   "outputs": [
    {
     "name": "stdout",
     "output_type": "stream",
     "text": [
      "4\n",
      "12\n",
      "11\n",
      "8\n",
      "9\n",
      "[12, 11, 8, 9]\n",
      "12 8 "
     ]
    }
   ],
   "source": [
    "l=[]\n",
    "n=int(input())\n",
    "for i in range(0,n):\n",
    "    lis=int(input())\n",
    "    l.append(lis)\n",
    "print(l)\n",
    "for lis in l:\n",
    "    if lis%2==0:\n",
    "        print(lis, end=\" \")"
   ]
  },
  {
   "cell_type": "markdown",
   "metadata": {
    "id": "_bIP7s1MCzue"
   },
   "source": [
    "(9) Write a program with python which could accept two parameter a and b to calculate and output the result of S, where\n",
    "\n",
    "$\\ S=3.14*(1+a/b)^3$\n",
    "\n"
   ]
  },
  {
   "cell_type": "code",
   "execution_count": 15,
   "metadata": {
    "id": "w79QilHXD3Mg"
   },
   "outputs": [
    {
     "name": "stdout",
     "output_type": "stream",
     "text": [
      "904.3199999999999\n"
     ]
    }
   ],
   "source": [
    "pi=3.14 \n",
    "radius=6.0 \n",
    "v=4.0/3.0*pi*radius**3 \n",
    "print(v)"
   ]
  },
  {
   "cell_type": "markdown",
   "metadata": {
    "id": "xCa2bK9aD4Q3"
   },
   "source": [
    "(10) Write a Python program to concatenate following dictionaries to create a new one.\n",
    "\n",
    "Sample Dictionary : dic1={1:10, 2:20}, dic2={3:30, 4:40}, dic3={5:50,6:60},\n",
    "\n",
    "Expected Result : {1: 10, 2: 20, 3: 30, 4: 40, 5: 50, 6: 60}\n"
   ]
  },
  {
   "cell_type": "code",
   "execution_count": null,
   "metadata": {
    "id": "_z4aLqAbEET1"
   },
   "outputs": [],
   "source": [
    "# write your answer here\n"
   ]
  },
  {
   "cell_type": "markdown",
   "metadata": {
    "id": "bkyZ2xSZUOst"
   },
   "source": [
    "(11) Write a Python function that accepts a tuple of integers and returns the largest and smallest elements."
   ]
  },
  {
   "cell_type": "code",
   "execution_count": 16,
   "metadata": {
    "id": "3FdLRBKOUQEd"
   },
   "outputs": [
    {
     "name": "stdout",
     "output_type": "stream",
     "text": [
      "10, 2, 3, 1\n",
      "largest number 10\n",
      "smallest number 1\n"
     ]
    }
   ],
   "source": [
    "t=tuple([int(i) for i in input().split(',')])\n",
    "print(\"largest number\", max(t))\n",
    "print(\"smallest number\", min(t))"
   ]
  },
  {
   "cell_type": "markdown",
   "metadata": {
    "id": "O0TVi3gKUTpp"
   },
   "source": [
    "(12) Write a Python program that counts the frequency of each character in a given string and stores it in a dictionary."
   ]
  },
  {
   "cell_type": "code",
   "execution_count": 21,
   "metadata": {
    "id": "lAtfSfZXUU-h"
   },
   "outputs": [
    {
     "name": "stdout",
     "output_type": "stream",
     "text": [
      "bhanu\n",
      "{'b': 1, 'h': 1, 'a': 1, 'n': 1, 'u': 1}\n"
     ]
    }
   ],
   "source": [
    "A=input().lower()\n",
    "dic={}\n",
    "for i in A:\n",
    "    if i in dic:\n",
    "        dic[i]+=1\n",
    "    else:\n",
    "        dic[i]=1\n",
    "print(dic)"
   ]
  },
  {
   "cell_type": "markdown",
   "metadata": {
    "id": "0v48Vqa7FrQh"
   },
   "source": [
    "(13) Write a Python program to check whether an element exists within a tuple."
   ]
  },
  {
   "cell_type": "code",
   "execution_count": 22,
   "metadata": {
    "id": "7WEmgq-DF2P1"
   },
   "outputs": [
    {
     "name": "stdout",
     "output_type": "stream",
     "text": [
      "True\n",
      "True\n"
     ]
    }
   ],
   "source": [
    "t=(\"p\",\"o\",\"o\",\"j\",\"a\", 1)\n",
    "print(\"j\" in t)\n",
    "print(1 in t)"
   ]
  },
  {
   "cell_type": "markdown",
   "metadata": {
    "id": "vD5PYLMuGga_"
   },
   "source": [
    "(14) Write a Python program to find maximum and the minimum value in a set."
   ]
  },
  {
   "cell_type": "code",
   "execution_count": 23,
   "metadata": {
    "id": "t0D5kdJUGjjw"
   },
   "outputs": [
    {
     "name": "stdout",
     "output_type": "stream",
     "text": [
      "maximum value in set 89\n",
      "minimum value in set 3\n"
     ]
    }
   ],
   "source": [
    "s={45,3,25,89}\n",
    "smax=max(s)\n",
    "smin=min(s)\n",
    "print(\"maximum value in set\",smax)\n",
    "print(\"minimum value in set\",smin)"
   ]
  },
  {
   "cell_type": "markdown",
   "metadata": {
    "id": "uHkd-y5VhVWC"
   },
   "source": [
    "(15) Write a Python program to randomly divide the students in this class into six groups for term projects, each group should have at least 4 students but no more than 6 students (including 6). Here is the students list:\n",
    "student_list_fall_2023=['sb1826' ,\n",
    " 'lb0582' ,\n",
    " 'ab1820' ,\n",
    " 'sb1883' ,\n",
    " 'mb1296' ,\n",
    " 'sc1622' ,\n",
    " 'tc0469' ,\n",
    " 'ac1770' ,\n",
    " 'mc1453' ,\n",
    " 'ad1187' ,\n",
    " 'sd0926' ,\n",
    " 'sd1268' ,\n",
    " 'ag1609' ,\n",
    " 'sg1638' ,\n",
    " 'mg1299' ,\n",
    " 'vkk0022' ,\n",
    " 'bk0413' ,\n",
    " 'gk0257' ,\n",
    " 'am2807' ,\n",
    " 'gm0558' ,\n",
    " 'pm0658' ,\n",
    " 'am2346' ,\n",
    " 'rm1090' ,\n",
    " 'sm2364' ,\n",
    " 'sm2747' ,\n",
    " 'sm2343' ,\n",
    " 'vm0597' ,\n",
    " 'htn0086' ,\n",
    " 'sp2075' ,\n",
    " 'gp0306' ,\n",
    " 'lp0502' ,\n",
    " 'sr1508' ,\n",
    " 'vr0331' ,\n",
    " 'yr0180' ,\n",
    " 'as2819' ,\n",
    " 'ss2981' ,\n",
    " 'ns0756' ,\n",
    " 'mt0825' ,\n",
    " 'dt0463' ,\n",
    " 'su0137' ,\n",
    " 'dv0310'\n",
    "]"
   ]
  },
  {
   "cell_type": "code",
   "execution_count": null,
   "metadata": {
    "id": "3iGbmcOBhTwy"
   },
   "outputs": [],
   "source": []
  },
  {
   "cell_type": "markdown",
   "metadata": {
    "id": "fmZ9vX20Qs3d"
   },
   "source": [
    "(16) Write a Python program to find the duplicate elements in a given array of integers. Return -1 If there are no such elements."
   ]
  },
  {
   "cell_type": "code",
   "execution_count": null,
   "metadata": {
    "id": "W8Jw6sWMQs3d"
   },
   "outputs": [],
   "source": [
    "l=[]\n",
    "n=int(input())\n",
    "for i in range(0,n):\n",
    "    lis=int(input())\n",
    "    l.append(lis)\n",
    "for i in range(0,n):\n",
    "    for j in range(i+1,n):\n",
    "        if(l[i]==l[j]):\n",
    "            print(\"duplicate elements in array\",l[j])\n",
    "else:\n",
    "    print(-1)"
   ]
  },
  {
   "cell_type": "markdown",
   "metadata": {
    "id": "hvq4APMhQs3d"
   },
   "source": [
    "(17) Write a Python program to select all the Sundays of a specified year."
   ]
  },
  {
   "cell_type": "code",
   "execution_count": 27,
   "metadata": {
    "id": "ZnoxhSglQs3d"
   },
   "outputs": [
    {
     "name": "stdout",
     "output_type": "stream",
     "text": [
      "2023\n",
      "2023-01-01\n",
      "2023-01-08\n",
      "2023-01-15\n",
      "2023-01-22\n",
      "2023-01-29\n",
      "2023-02-05\n",
      "2023-02-12\n",
      "2023-02-19\n",
      "2023-02-26\n",
      "2023-03-05\n",
      "2023-03-12\n",
      "2023-03-19\n",
      "2023-03-26\n",
      "2023-04-02\n",
      "2023-04-09\n",
      "2023-04-16\n",
      "2023-04-23\n",
      "2023-04-30\n",
      "2023-05-07\n",
      "2023-05-14\n",
      "2023-05-21\n",
      "2023-05-28\n",
      "2023-06-04\n",
      "2023-06-11\n",
      "2023-06-18\n",
      "2023-06-25\n",
      "2023-07-02\n",
      "2023-07-09\n",
      "2023-07-16\n",
      "2023-07-23\n",
      "2023-07-30\n",
      "2023-08-06\n",
      "2023-08-13\n",
      "2023-08-20\n",
      "2023-08-27\n",
      "2023-09-03\n",
      "2023-09-10\n",
      "2023-09-17\n",
      "2023-09-24\n",
      "2023-10-01\n",
      "2023-10-08\n",
      "2023-10-15\n",
      "2023-10-22\n",
      "2023-10-29\n",
      "2023-11-05\n",
      "2023-11-12\n",
      "2023-11-19\n",
      "2023-11-26\n",
      "2023-12-03\n",
      "2023-12-10\n",
      "2023-12-17\n",
      "2023-12-24\n",
      "2023-12-31\n"
     ]
    }
   ],
   "source": [
    "from datetime import date, timedelta\n",
    "def sundays(year):\n",
    "    dte=date(year,1,1)\n",
    "    dte+=timedelta(days=6-dte.weekday())\n",
    "    while dte.year==year:\n",
    "        yield dte\n",
    "        dte+=timedelta(days=7)\n",
    "for s in sundays(int(input())):\n",
    "    print(s)"
   ]
  },
  {
   "cell_type": "markdown",
   "metadata": {
    "id": "55FWoSJPVVM6"
   },
   "source": [
    "(18) Build a program that calculates the factorial of a given positive integer. The factorial of a non-negative integer n is the product of all positive integers less than or equal to n."
   ]
  },
  {
   "cell_type": "code",
   "execution_count": 30,
   "metadata": {
    "id": "hwtr1wZmVX5A"
   },
   "outputs": [
    {
     "name": "stdout",
     "output_type": "stream",
     "text": [
      "6\n"
     ]
    },
    {
     "ename": "NameError",
     "evalue": "name 'B' is not defined",
     "output_type": "error",
     "traceback": [
      "\u001b[0;31m---------------------------------------------------------------------------\u001b[0m",
      "\u001b[0;31mNameError\u001b[0m                                 Traceback (most recent call last)",
      "Cell \u001b[0;32mIn[30], line 3\u001b[0m\n\u001b[1;32m      1\u001b[0m a\u001b[38;5;241m=\u001b[39m\u001b[38;5;28mint\u001b[39m(\u001b[38;5;28minput\u001b[39m())\n\u001b[1;32m      2\u001b[0m \u001b[38;5;28;01mwhile\u001b[39;00m a\u001b[38;5;241m>\u001b[39m\u001b[38;5;241m=\u001b[39m\u001b[38;5;241m1\u001b[39m:\n\u001b[0;32m----> 3\u001b[0m     B\u001b[38;5;241m=\u001b[39mB\u001b[38;5;241m*\u001b[39ma\n\u001b[1;32m      4\u001b[0m     a\u001b[38;5;241m=\u001b[39ma\u001b[38;5;241m-\u001b[39m\u001b[38;5;241m1\u001b[39m\n\u001b[1;32m      5\u001b[0m \u001b[38;5;28mprint\u001b[39m(B)\n",
      "\u001b[0;31mNameError\u001b[0m: name 'B' is not defined"
     ]
    }
   ],
   "source": [
    "a=int(input())\n",
    "while a>=1:\n",
    "    B = sB*a\n",
    "    a=a-1\n",
    "print(B)"
   ]
  },
  {
   "cell_type": "markdown",
   "metadata": {
    "id": "Q9ecagcaVazW"
   },
   "source": [
    "(19) Write a program that takes a positive integer n as input and prints the count of even numbers from 1 to n. Use a loop to iterate through the numbers and utilize the break statement to optimize the loop."
   ]
  },
  {
   "cell_type": "code",
   "execution_count": null,
   "metadata": {
    "id": "gycgckoAVZjR"
   },
   "outputs": [],
   "source": [
    "# write your answer here\n"
   ]
  },
  {
   "cell_type": "markdown",
   "metadata": {
    "id": "cboAr5pEWUf5"
   },
   "source": [
    "(20) Write a Python function called count_vowels that takes a string as input and returns the count of vowels (both lowercase and uppercase) present in the string. Consider the vowels to be 'a', 'e', 'i', 'o', and 'u'. Ignore spaces and other non-alphabetic characters."
   ]
  },
  {
   "cell_type": "code",
   "execution_count": null,
   "metadata": {
    "id": "phs9gciMWWAW"
   },
   "outputs": [],
   "source": [
    "# write your answer here\n"
   ]
  }
 ],
 "metadata": {
  "colab": {
   "provenance": []
  },
  "kernelspec": {
   "display_name": "Python 3 (ipykernel)",
   "language": "python",
   "name": "python3"
  },
  "language_info": {
   "codemirror_mode": {
    "name": "ipython",
    "version": 3
   },
   "file_extension": ".py",
   "mimetype": "text/x-python",
   "name": "python",
   "nbconvert_exporter": "python",
   "pygments_lexer": "ipython3",
   "version": "3.11.4"
  }
 },
 "nbformat": 4,
 "nbformat_minor": 1
}
